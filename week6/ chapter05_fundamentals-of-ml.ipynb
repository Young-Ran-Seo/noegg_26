{
  "cells": [
    {
      "cell_type": "markdown",
      "metadata": {
        "id": "vNjrRPIzuyr_"
      },
      "source": [
        "This is a companion notebook for the book [Deep Learning with Python, Second Edition](https://www.manning.com/books/deep-learning-with-python-second-edition?a_aid=keras&a_bid=76564dff). For readability, it only contains runnable code blocks and section titles, and omits everything else in the book: text paragraphs, figures, and pseudocode.\n",
        "\n",
        "**If you want to be able to follow what's going on, I recommend reading the notebook side by side with your copy of the book.**\n",
        "\n",
        "This notebook was generated for TensorFlow 2.6."
      ]
    },
    {
      "cell_type": "markdown",
      "metadata": {
        "id": "nd0z9GcuuysA"
      },
      "source": [
        "# Fundamentals of machine learning"
      ]
    },
    {
      "cell_type": "markdown",
      "metadata": {
        "id": "oHfuwDQ2uysB"
      },
      "source": [
        "## Generalization: The goal of machine learning"
      ]
    },
    {
      "cell_type": "markdown",
      "metadata": {
        "id": "u7ukT13euysB"
      },
      "source": [
        "### Underfitting and overfitting"
      ]
    },
    {
      "cell_type": "markdown",
      "metadata": {
        "id": "nO7Z_5o6uysB"
      },
      "source": [
        "#### Noisy training data"
      ]
    },
    {
      "cell_type": "markdown",
      "metadata": {
        "id": "4apAE1qfuysB"
      },
      "source": [
        "#### Ambiguous features"
      ]
    },
    {
      "cell_type": "markdown",
      "metadata": {
        "id": "0lUqpR-FuysB"
      },
      "source": [
        "#### Rare features and spurious correlations"
      ]
    },
    {
      "cell_type": "markdown",
      "metadata": {
        "id": "eBRwgY9KuysC"
      },
      "source": [
        "**Adding white-noise channels or all-zeros channels to MNIST**"
      ]
    },
    {
      "cell_type": "code",
      "execution_count": 26,
      "metadata": {
        "id": "atpfFzPVuysC"
      },
      "outputs": [],
      "source": [
        "from tensorflow.keras.datasets import mnist\n",
        "import numpy as np\n",
        "\n",
        "(train_images, train_labels), _ = mnist.load_data()\n",
        "train_images = train_images.reshape((60000, 28 * 28))\n",
        "train_images = train_images.astype(\"float32\") / 255\n",
        "\n",
        "train_images_with_noise_channels = np.concatenate(\n",
        "    [train_images, np.random.random((len(train_images), 784))], axis=1)\n",
        "\n",
        "train_images_with_zeros_channels = np.concatenate(\n",
        "    [train_images, np.zeros((len(train_images), 784))], axis=1)"
      ]
    },
    {
      "cell_type": "markdown",
      "metadata": {
        "id": "3CDjXVNJuysC"
      },
      "source": [
        "**Training the same model on MNIST data with noise channels or all-zero channels**"
      ]
    },
    {
      "cell_type": "code",
      "execution_count": 27,
      "metadata": {
        "id": "GafGJotkuysD",
        "outputId": "7474280c-0aab-47f2-debb-14fb8784a5a0",
        "colab": {
          "base_uri": "https://localhost:8080/"
        }
      },
      "outputs": [
        {
          "output_type": "stream",
          "name": "stdout",
          "text": [
            "Epoch 1/10\n",
            "375/375 [==============================] - 6s 14ms/step - loss: 0.6227 - accuracy: 0.8108 - val_loss: 0.2989 - val_accuracy: 0.9073\n",
            "Epoch 2/10\n",
            "375/375 [==============================] - 5s 14ms/step - loss: 0.2542 - accuracy: 0.9211 - val_loss: 0.2275 - val_accuracy: 0.9283\n",
            "Epoch 3/10\n",
            "375/375 [==============================] - 5s 14ms/step - loss: 0.1656 - accuracy: 0.9488 - val_loss: 0.1455 - val_accuracy: 0.9563\n",
            "Epoch 4/10\n",
            "375/375 [==============================] - 5s 13ms/step - loss: 0.1204 - accuracy: 0.9628 - val_loss: 0.1334 - val_accuracy: 0.9603\n",
            "Epoch 5/10\n",
            "375/375 [==============================] - 5s 14ms/step - loss: 0.0888 - accuracy: 0.9721 - val_loss: 0.1299 - val_accuracy: 0.9635\n",
            "Epoch 6/10\n",
            "375/375 [==============================] - 5s 13ms/step - loss: 0.0663 - accuracy: 0.9789 - val_loss: 0.1358 - val_accuracy: 0.9622\n",
            "Epoch 7/10\n",
            "375/375 [==============================] - 5s 15ms/step - loss: 0.0489 - accuracy: 0.9847 - val_loss: 0.1150 - val_accuracy: 0.9682\n",
            "Epoch 8/10\n",
            "375/375 [==============================] - 5s 13ms/step - loss: 0.0352 - accuracy: 0.9886 - val_loss: 0.1326 - val_accuracy: 0.9667\n",
            "Epoch 9/10\n",
            "375/375 [==============================] - 5s 13ms/step - loss: 0.0285 - accuracy: 0.9908 - val_loss: 0.1588 - val_accuracy: 0.9572\n",
            "Epoch 10/10\n",
            "375/375 [==============================] - 6s 16ms/step - loss: 0.0188 - accuracy: 0.9941 - val_loss: 0.1337 - val_accuracy: 0.9664\n",
            "Epoch 1/10\n",
            "375/375 [==============================] - 5s 13ms/step - loss: 0.2966 - accuracy: 0.9140 - val_loss: 0.1598 - val_accuracy: 0.9542\n",
            "Epoch 2/10\n",
            "375/375 [==============================] - 5s 14ms/step - loss: 0.1256 - accuracy: 0.9639 - val_loss: 0.1149 - val_accuracy: 0.9657\n",
            "Epoch 3/10\n",
            "375/375 [==============================] - 5s 13ms/step - loss: 0.0816 - accuracy: 0.9763 - val_loss: 0.1042 - val_accuracy: 0.9672\n",
            "Epoch 4/10\n",
            "375/375 [==============================] - 5s 13ms/step - loss: 0.0587 - accuracy: 0.9825 - val_loss: 0.0829 - val_accuracy: 0.9746\n",
            "Epoch 5/10\n",
            "375/375 [==============================] - 5s 15ms/step - loss: 0.0440 - accuracy: 0.9869 - val_loss: 0.0738 - val_accuracy: 0.9769\n",
            "Epoch 6/10\n",
            "375/375 [==============================] - 5s 13ms/step - loss: 0.0339 - accuracy: 0.9902 - val_loss: 0.0745 - val_accuracy: 0.9800\n",
            "Epoch 7/10\n",
            "375/375 [==============================] - 5s 14ms/step - loss: 0.0250 - accuracy: 0.9932 - val_loss: 0.0789 - val_accuracy: 0.9770\n",
            "Epoch 8/10\n",
            "375/375 [==============================] - 5s 13ms/step - loss: 0.0191 - accuracy: 0.9943 - val_loss: 0.0802 - val_accuracy: 0.9782\n",
            "Epoch 9/10\n",
            "375/375 [==============================] - 6s 16ms/step - loss: 0.0142 - accuracy: 0.9962 - val_loss: 0.0787 - val_accuracy: 0.9802\n",
            "Epoch 10/10\n",
            "375/375 [==============================] - 5s 13ms/step - loss: 0.0104 - accuracy: 0.9979 - val_loss: 0.0761 - val_accuracy: 0.9804\n"
          ]
        }
      ],
      "source": [
        "from tensorflow import keras\n",
        "from tensorflow.keras import layers\n",
        "\n",
        "def get_model():\n",
        "    model = keras.Sequential([\n",
        "        layers.Dense(512, activation=\"relu\"),\n",
        "        layers.Dense(10, activation=\"softmax\")\n",
        "    ])\n",
        "    model.compile(optimizer=\"rmsprop\",\n",
        "                  loss=\"sparse_categorical_crossentropy\",\n",
        "                  metrics=[\"accuracy\"])\n",
        "    return model\n",
        "\n",
        "model = get_model()\n",
        "history_noise = model.fit(\n",
        "    train_images_with_noise_channels, train_labels,\n",
        "    epochs=10,\n",
        "    batch_size=128,\n",
        "    validation_split=0.2)\n",
        "\n",
        "model = get_model()\n",
        "history_zeros = model.fit(\n",
        "    train_images_with_zeros_channels, train_labels,\n",
        "    epochs=10,\n",
        "    batch_size=128,\n",
        "    validation_split=0.2)"
      ]
    },
    {
      "cell_type": "code",
      "source": [
        "model3 = get_model()\n",
        "history_original = model3.fit(\n",
        "    train_images, train_labels,\n",
        "    epochs=10,\n",
        "    batch_size=128,\n",
        "    validation_split=0.2)"
      ],
      "metadata": {
        "id": "Ee15_lqI6FcD",
        "outputId": "2098a416-f0c1-4d93-ca70-f7a77b038002",
        "colab": {
          "base_uri": "https://localhost:8080/"
        }
      },
      "execution_count": 28,
      "outputs": [
        {
          "output_type": "stream",
          "name": "stdout",
          "text": [
            "Epoch 1/10\n",
            "375/375 [==============================] - 3s 8ms/step - loss: 0.2971 - accuracy: 0.9152 - val_loss: 0.1502 - val_accuracy: 0.9590\n",
            "Epoch 2/10\n",
            "375/375 [==============================] - 4s 9ms/step - loss: 0.1223 - accuracy: 0.9644 - val_loss: 0.1202 - val_accuracy: 0.9643\n",
            "Epoch 3/10\n",
            "375/375 [==============================] - 3s 8ms/step - loss: 0.0809 - accuracy: 0.9765 - val_loss: 0.0936 - val_accuracy: 0.9708\n",
            "Epoch 4/10\n",
            "375/375 [==============================] - 3s 8ms/step - loss: 0.0578 - accuracy: 0.9827 - val_loss: 0.0781 - val_accuracy: 0.9762\n",
            "Epoch 5/10\n",
            "375/375 [==============================] - 3s 8ms/step - loss: 0.0425 - accuracy: 0.9878 - val_loss: 0.0804 - val_accuracy: 0.9767\n",
            "Epoch 6/10\n",
            "375/375 [==============================] - 4s 10ms/step - loss: 0.0322 - accuracy: 0.9907 - val_loss: 0.0753 - val_accuracy: 0.9765\n",
            "Epoch 7/10\n",
            "375/375 [==============================] - 3s 8ms/step - loss: 0.0246 - accuracy: 0.9931 - val_loss: 0.0762 - val_accuracy: 0.9775\n",
            "Epoch 8/10\n",
            "375/375 [==============================] - 3s 8ms/step - loss: 0.0180 - accuracy: 0.9954 - val_loss: 0.0699 - val_accuracy: 0.9797\n",
            "Epoch 9/10\n",
            "375/375 [==============================] - 3s 8ms/step - loss: 0.0141 - accuracy: 0.9963 - val_loss: 0.0720 - val_accuracy: 0.9800\n",
            "Epoch 10/10\n",
            "375/375 [==============================] - 4s 9ms/step - loss: 0.0101 - accuracy: 0.9975 - val_loss: 0.0774 - val_accuracy: 0.9786\n"
          ]
        }
      ]
    },
    {
      "cell_type": "markdown",
      "metadata": {
        "id": "N3uBDwZTuysD"
      },
      "source": [
        "**Plotting a validation accuracy comparison**"
      ]
    },
    {
      "cell_type": "code",
      "execution_count": 29,
      "metadata": {
        "id": "ZJVlhFGLuysD",
        "outputId": "f664b262-7b66-458f-a4e8-747f3f4fd4b3",
        "colab": {
          "base_uri": "https://localhost:8080/",
          "height": 490
        }
      },
      "outputs": [
        {
          "output_type": "execute_result",
          "data": {
            "text/plain": [
              "<matplotlib.legend.Legend at 0x7f181f32bb50>"
            ]
          },
          "metadata": {},
          "execution_count": 29
        },
        {
          "output_type": "display_data",
          "data": {
            "text/plain": [
              "<Figure size 640x480 with 1 Axes>"
            ],
            "image/png": "[encoded data removed]"
          },
          "metadata": {}
        }
      ],
      "source": [
        "import matplotlib.pyplot as plt\n",
        "val_acc_noise = history_noise.history[\"val_accuracy\"]\n",
        "val_acc_zeros = history_zeros.history[\"val_accuracy\"]\n",
        "val_acc_original = history_original.history[\"val_accuracy\"]\n",
        "epochs = range(1, 11)\n",
        "plt.plot(epochs, val_acc_noise, \"b-\",\n",
        "         label=\"Validation accuracy with noise channels\")\n",
        "plt.plot(epochs, val_acc_zeros, \"b--\",\n",
        "         label=\"Validation accuracy with zeros channels\")\n",
        "plt.plot(epochs, val_acc_original, \"r--\",\n",
        "         label=\"Validation accuracy with original channels\")\n",
        "plt.title(\"Effect of noise channels on validation accuracy\")\n",
        "plt.xlabel(\"Epochs\")\n",
        "plt.ylabel(\"Accuracy\")\n",
        "plt.legend()"
      ]
    },
    {
      "cell_type": "markdown",
      "metadata": {
        "id": "aYY9iUhJuysJ"
      },
      "source": [
        "### The nature of generalization in deep learning"
      ]
    },
    {
      "cell_type": "markdown",
      "metadata": {
        "id": "UjAsNDmsuysK"
      },
      "source": [
        "**Fitting a MNIST model with randomly shuffled labels**"
      ]
    },
    {
      "cell_type": "code",
      "execution_count": 31,
      "metadata": {
        "id": "q1CrKWgeuysK",
        "outputId": "7a1a7a3d-3f3d-4a46-e9e8-ae4e3050fd1a",
        "colab": {
          "base_uri": "https://localhost:8080/"
        }
      },
      "outputs": [
        {
          "output_type": "stream",
          "name": "stdout",
          "text": [
            "Epoch 1/10\n",
            "375/375 [==============================] - 4s 10ms/step - loss: 2.3153 - accuracy: 0.1037 - val_loss: 2.3049 - val_accuracy: 0.1060\n",
            "Epoch 2/10\n",
            "375/375 [==============================] - 3s 9ms/step - loss: 2.2993 - accuracy: 0.1158 - val_loss: 2.3118 - val_accuracy: 0.0986\n",
            "Epoch 3/10\n",
            "375/375 [==============================] - 3s 9ms/step - loss: 2.2914 - accuracy: 0.1268 - val_loss: 2.3152 - val_accuracy: 0.1056\n",
            "Epoch 4/10\n",
            "375/375 [==============================] - 3s 8ms/step - loss: 2.2801 - accuracy: 0.1376 - val_loss: 2.3259 - val_accuracy: 0.1016\n",
            "Epoch 5/10\n",
            "375/375 [==============================] - 3s 8ms/step - loss: 2.2663 - accuracy: 0.1491 - val_loss: 2.3309 - val_accuracy: 0.1010\n",
            "Epoch 6/10\n",
            "375/375 [==============================] - 4s 10ms/step - loss: 2.2475 - accuracy: 0.1640 - val_loss: 2.3479 - val_accuracy: 0.1010\n",
            "Epoch 7/10\n",
            "375/375 [==============================] - 3s 8ms/step - loss: 2.2252 - accuracy: 0.1795 - val_loss: 2.3571 - val_accuracy: 0.1021\n",
            "Epoch 8/10\n",
            "375/375 [==============================] - 3s 8ms/step - loss: 2.2004 - accuracy: 0.1919 - val_loss: 2.3764 - val_accuracy: 0.1047\n",
            "Epoch 9/10\n",
            "375/375 [==============================] - 3s 8ms/step - loss: 2.1725 - accuracy: 0.2070 - val_loss: 2.4011 - val_accuracy: 0.1006\n",
            "Epoch 10/10\n",
            "375/375 [==============================] - 4s 10ms/step - loss: 2.1408 - accuracy: 0.2221 - val_loss: 2.4169 - val_accuracy: 0.0983\n"
          ]
        },
        {
          "output_type": "execute_result",
          "data": {
            "text/plain": [
              "<keras.callbacks.History at 0x7f181c614a60>"
            ]
          },
          "metadata": {},
          "execution_count": 31
        }
      ],
      "source": [
        "(train_images, train_labels), _ = mnist.load_data()\n",
        "train_images = train_images.reshape((60000, 28 * 28))\n",
        "train_images = train_images.astype(\"float32\") / 255\n",
        "\n",
        "random_train_labels = train_labels[:]\n",
        "np.random.shuffle(random_train_labels)\n",
        "\n",
        "model = keras.Sequential([\n",
        "    layers.Dense(512, activation=\"relu\"),\n",
        "    layers.Dense(10, activation=\"softmax\")\n",
        "])\n",
        "model.compile(optimizer=\"rmsprop\",\n",
        "              loss=\"sparse_categorical_crossentropy\",\n",
        "              metrics=[\"accuracy\"])\n",
        "model.fit(train_images, random_train_labels,\n",
        "          epochs=10,\n",
        "          batch_size=128,\n",
        "          validation_split=0.2)"
      ]
    },
    {
      "cell_type": "markdown",
      "metadata": {
        "id": "5e6C6Vc1uysK"
      },
      "source": [
        "#### The manifold hypothesis"
      ]
    },
    {
      "cell_type": "markdown",
      "metadata": {
        "id": "HcahoklXuysK"
      },
      "source": [
        "#### Interpolation as a source of generalization"
      ]
    },
    {
      "cell_type": "markdown",
      "metadata": {
        "id": "TtB7yJ5ZuysL"
      },
      "source": [
        "#### Why deep learning works"
      ]
    },
    {
      "cell_type": "markdown",
      "metadata": {
        "id": "7cLqwTk-uysL"
      },
      "source": [
        "#### Training data is paramount"
      ]
    },
    {
      "cell_type": "markdown",
      "metadata": {
        "id": "hOp-SUrhuysL"
      },
      "source": [
        "## Evaluating machine-learning models"
      ]
    },
    {
      "cell_type": "markdown",
      "metadata": {
        "id": "pKDvDSgsuysL"
      },
      "source": [
        "### Training, validation, and test sets"
      ]
    },
    {
      "cell_type": "markdown",
      "metadata": {
        "id": "EV_NuFWruysL"
      },
      "source": [
        "#### Simple hold-out validation"
      ]
    },
    {
      "cell_type": "markdown",
      "metadata": {
        "id": "4B3QpB_juysL"
      },
      "source": [
        "#### K-fold validation"
      ]
    },
    {
      "cell_type": "markdown",
      "metadata": {
        "id": "bgsvzWxRuysM"
      },
      "source": [
        "#### Iterated K-fold validation with shuffling"
      ]
    },
    {
      "cell_type": "markdown",
      "metadata": {
        "id": "FLy2UxMtuysM"
      },
      "source": [
        "### Beating a common-sense baseline"
      ]
    },
    {
      "cell_type": "markdown",
      "metadata": {
        "id": "yTBPDQrDuysM"
      },
      "source": [
        "### Things to keep in mind about model evaluation"
      ]
    },
    {
      "cell_type": "markdown",
      "metadata": {
        "id": "oYntEEUpuysM"
      },
      "source": [
        "## Improving model fit"
      ]
    },
    {
      "cell_type": "markdown",
      "metadata": {
        "id": "8_KPacP-uysM"
      },
      "source": [
        "### Tuning key gradient descent parameters"
      ]
    },
    {
      "cell_type": "markdown",
      "metadata": {
        "id": "sHxr4p7puysM"
      },
      "source": [
        "**Training a MNIST model with an incorrectly high learning rate**"
      ]
    },
    {
      "cell_type": "code",
      "execution_count": 36,
      "metadata": {
        "id": "sdT27pusuysM",
        "outputId": "805da34f-1c52-4914-9b12-7a6669c63d28",
        "colab": {
          "base_uri": "https://localhost:8080/"
        }
      },
      "outputs": [
        {
          "output_type": "stream",
          "name": "stdout",
          "text": [
            "Epoch 1/10\n",
            "375/375 [==============================] - 3s 8ms/step - loss: 0.3440 - accuracy: 0.9118 - val_loss: 0.1575 - val_accuracy: 0.9541\n",
            "Epoch 2/10\n",
            "375/375 [==============================] - 3s 8ms/step - loss: 0.1234 - accuracy: 0.9643 - val_loss: 0.1328 - val_accuracy: 0.9639\n",
            "Epoch 3/10\n",
            "375/375 [==============================] - 4s 12ms/step - loss: 0.0938 - accuracy: 0.9744 - val_loss: 0.1591 - val_accuracy: 0.9663\n",
            "Epoch 4/10\n",
            "375/375 [==============================] - 4s 12ms/step - loss: 0.0813 - accuracy: 0.9786 - val_loss: 0.1564 - val_accuracy: 0.9693\n",
            "Epoch 5/10\n",
            "375/375 [==============================] - 4s 11ms/step - loss: 0.0717 - accuracy: 0.9818 - val_loss: 0.1583 - val_accuracy: 0.9722\n",
            "Epoch 6/10\n",
            "375/375 [==============================] - 5s 12ms/step - loss: 0.0623 - accuracy: 0.9843 - val_loss: 0.1716 - val_accuracy: 0.9726\n",
            "Epoch 7/10\n",
            "375/375 [==============================] - 4s 10ms/step - loss: 0.0571 - accuracy: 0.9864 - val_loss: 0.1920 - val_accuracy: 0.9726\n",
            "Epoch 8/10\n",
            "375/375 [==============================] - 4s 10ms/step - loss: 0.0453 - accuracy: 0.9887 - val_loss: 0.1818 - val_accuracy: 0.9728\n",
            "Epoch 9/10\n",
            "375/375 [==============================] - 4s 11ms/step - loss: 0.0421 - accuracy: 0.9900 - val_loss: 0.2086 - val_accuracy: 0.9723\n",
            "Epoch 10/10\n",
            "375/375 [==============================] - 3s 9ms/step - loss: 0.0382 - accuracy: 0.9912 - val_loss: 0.2294 - val_accuracy: 0.9730\n"
          ]
        },
        {
          "output_type": "execute_result",
          "data": {
            "text/plain": [
              "<keras.callbacks.History at 0x7f17e2f490a0>"
            ]
          },
          "metadata": {},
          "execution_count": 36
        }
      ],
      "source": [
        "(train_images, train_labels), _ = mnist.load_data()\n",
        "train_images = train_images.reshape((60000, 28 * 28))\n",
        "train_images = train_images.astype(\"float32\") / 255\n",
        "\n",
        "model = keras.Sequential([\n",
        "    layers.Dense(512, activation=\"relu\"),\n",
        "    layers.Dense(10, activation=\"softmax\")\n",
        "])\n",
        "model.compile(optimizer=keras.optimizers.RMSprop(0.01),\n",
        "              loss=\"sparse_categorical_crossentropy\",\n",
        "              metrics=[\"accuracy\"])\n",
        "model.fit(train_images, train_labels,\n",
        "          epochs=10,\n",
        "          batch_size=128,\n",
        "          validation_split=0.2)"
      ]
    },
    {
      "cell_type": "markdown",
      "metadata": {
        "id": "rxvZLheJuysN"
      },
      "source": [
        "**The same model with a more appropriate learning rate**"
      ]
    },
    {
      "cell_type": "code",
      "execution_count": 37,
      "metadata": {
        "id": "yvNFwjSDuysN",
        "outputId": "3ff80023-b7f6-436b-a19f-8dcdb3b4a7c3",
        "colab": {
          "base_uri": "https://localhost:8080/"
        }
      },
      "outputs": [
        {
          "output_type": "stream",
          "name": "stdout",
          "text": [
            "Epoch 1/10\n",
            "375/375 [==============================] - 3s 8ms/step - loss: 0.3545 - accuracy: 0.9125 - val_loss: 0.1554 - val_accuracy: 0.9550\n",
            "Epoch 2/10\n",
            "375/375 [==============================] - 3s 8ms/step - loss: 0.1269 - accuracy: 0.9647 - val_loss: 0.1261 - val_accuracy: 0.9658\n",
            "Epoch 3/10\n",
            "375/375 [==============================] - 4s 10ms/step - loss: 0.0974 - accuracy: 0.9742 - val_loss: 0.1461 - val_accuracy: 0.9678\n",
            "Epoch 4/10\n",
            "375/375 [==============================] - 3s 8ms/step - loss: 0.0814 - accuracy: 0.9789 - val_loss: 0.1413 - val_accuracy: 0.9718\n",
            "Epoch 5/10\n",
            "375/375 [==============================] - 3s 8ms/step - loss: 0.0672 - accuracy: 0.9832 - val_loss: 0.1590 - val_accuracy: 0.9707\n",
            "Epoch 6/10\n",
            "375/375 [==============================] - 3s 8ms/step - loss: 0.0551 - accuracy: 0.9854 - val_loss: 0.1946 - val_accuracy: 0.9662\n",
            "Epoch 7/10\n",
            "375/375 [==============================] - 4s 10ms/step - loss: 0.0493 - accuracy: 0.9876 - val_loss: 0.1772 - val_accuracy: 0.9753\n",
            "Epoch 8/10\n",
            "375/375 [==============================] - 3s 8ms/step - loss: 0.0462 - accuracy: 0.9895 - val_loss: 0.1946 - val_accuracy: 0.9718\n",
            "Epoch 9/10\n",
            "375/375 [==============================] - 3s 8ms/step - loss: 0.0360 - accuracy: 0.9910 - val_loss: 0.2163 - val_accuracy: 0.9707\n",
            "Epoch 10/10\n",
            "375/375 [==============================] - 3s 8ms/step - loss: 0.0353 - accuracy: 0.9918 - val_loss: 0.1872 - val_accuracy: 0.9755\n"
          ]
        },
        {
          "output_type": "execute_result",
          "data": {
            "text/plain": [
              "<keras.callbacks.History at 0x7f180814f3d0>"
            ]
          },
          "metadata": {},
          "execution_count": 37
        }
      ],
      "source": [
        "model = keras.Sequential([\n",
        "    layers.Dense(512, activation=\"relu\"),\n",
        "    layers.Dense(10, activation=\"softmax\")\n",
        "])\n",
        "model.compile(optimizer=keras.optimizers.RMSprop(1e-2),\n",
        "              loss=\"sparse_categorical_crossentropy\",\n",
        "              metrics=[\"accuracy\"])\n",
        "model.fit(train_images, train_labels,\n",
        "          epochs=10,\n",
        "          batch_size=128,\n",
        "          validation_split=0.2)"
      ]
    },
    {
      "cell_type": "code",
      "source": [
        "history_model=model.fit(\n",
        "    train_images, train_labels,\n",
        "    epochs=20,\n",
        "    batch_size=128,\n",
        "    validation_split=0.2\n",
        ")"
      ],
      "metadata": {
        "id": "AD8DumDP9qm_",
        "outputId": "8c6f9e39-c4e9-4074-8cbe-d4c39206c02b",
        "colab": {
          "base_uri": "https://localhost:8080/"
        }
      },
      "execution_count": 38,
      "outputs": [
        {
          "output_type": "stream",
          "name": "stdout",
          "text": [
            "Epoch 1/20\n",
            "375/375 [==============================] - 3s 9ms/step - loss: 0.0318 - accuracy: 0.9928 - val_loss: 0.2045 - val_accuracy: 0.9743\n",
            "Epoch 2/20\n",
            "375/375 [==============================] - 3s 8ms/step - loss: 0.0265 - accuracy: 0.9937 - val_loss: 0.2579 - val_accuracy: 0.9730\n",
            "Epoch 3/20\n",
            "375/375 [==============================] - 4s 10ms/step - loss: 0.0287 - accuracy: 0.9939 - val_loss: 0.2308 - val_accuracy: 0.9765\n",
            "Epoch 4/20\n",
            "375/375 [==============================] - 3s 8ms/step - loss: 0.0287 - accuracy: 0.9937 - val_loss: 0.2209 - val_accuracy: 0.9774\n",
            "Epoch 5/20\n",
            "375/375 [==============================] - 3s 8ms/step - loss: 0.0211 - accuracy: 0.9952 - val_loss: 0.2733 - val_accuracy: 0.9740\n",
            "Epoch 6/20\n",
            "375/375 [==============================] - 3s 8ms/step - loss: 0.0201 - accuracy: 0.9956 - val_loss: 0.2550 - val_accuracy: 0.9749\n",
            "Epoch 7/20\n",
            "375/375 [==============================] - 4s 12ms/step - loss: 0.0215 - accuracy: 0.9957 - val_loss: 0.2415 - val_accuracy: 0.9787\n",
            "Epoch 8/20\n",
            "375/375 [==============================] - 3s 9ms/step - loss: 0.0178 - accuracy: 0.9963 - val_loss: 0.2414 - val_accuracy: 0.9782\n",
            "Epoch 9/20\n",
            "375/375 [==============================] - 3s 8ms/step - loss: 0.0178 - accuracy: 0.9964 - val_loss: 0.2661 - val_accuracy: 0.9769\n",
            "Epoch 10/20\n",
            "375/375 [==============================] - 4s 10ms/step - loss: 0.0178 - accuracy: 0.9960 - val_loss: 0.3061 - val_accuracy: 0.9752\n",
            "Epoch 11/20\n",
            "375/375 [==============================] - 3s 9ms/step - loss: 0.0134 - accuracy: 0.9970 - val_loss: 0.2671 - val_accuracy: 0.9783\n",
            "Epoch 12/20\n",
            "375/375 [==============================] - 3s 9ms/step - loss: 0.0133 - accuracy: 0.9973 - val_loss: 0.3088 - val_accuracy: 0.9758\n",
            "Epoch 13/20\n",
            "375/375 [==============================] - 3s 8ms/step - loss: 0.0097 - accuracy: 0.9981 - val_loss: 0.2792 - val_accuracy: 0.9769\n",
            "Epoch 14/20\n",
            "375/375 [==============================] - 5s 12ms/step - loss: 0.0091 - accuracy: 0.9980 - val_loss: 0.3089 - val_accuracy: 0.9772\n",
            "Epoch 15/20\n",
            "375/375 [==============================] - 3s 8ms/step - loss: 0.0076 - accuracy: 0.9982 - val_loss: 0.3045 - val_accuracy: 0.9791\n",
            "Epoch 16/20\n",
            "375/375 [==============================] - 3s 8ms/step - loss: 0.0113 - accuracy: 0.9975 - val_loss: 0.3455 - val_accuracy: 0.9767\n",
            "Epoch 17/20\n",
            "375/375 [==============================] - 4s 10ms/step - loss: 0.0111 - accuracy: 0.9978 - val_loss: 0.2920 - val_accuracy: 0.9781\n",
            "Epoch 18/20\n",
            "375/375 [==============================] - 3s 8ms/step - loss: 0.0078 - accuracy: 0.9983 - val_loss: 0.3130 - val_accuracy: 0.9784\n",
            "Epoch 19/20\n",
            "375/375 [==============================] - 3s 8ms/step - loss: 0.0046 - accuracy: 0.9987 - val_loss: 0.3342 - val_accuracy: 0.9770\n",
            "Epoch 20/20\n",
            "375/375 [==============================] - 3s 8ms/step - loss: 0.0085 - accuracy: 0.9984 - val_loss: 0.3058 - val_accuracy: 0.9797\n"
          ]
        }
      ]
    },
    {
      "cell_type": "markdown",
      "metadata": {
        "id": "4U83g7RQuysN"
      },
      "source": [
        "### Leveraging better architecture priors"
      ]
    },
    {
      "cell_type": "markdown",
      "metadata": {
        "id": "tRyRkpwOuysN"
      },
      "source": [
        "### Increasing model capacity"
      ]
    },
    {
      "cell_type": "markdown",
      "metadata": {
        "id": "yRvipmRfuysN"
      },
      "source": [
        "**A simple logistic regression on MNIST**"
      ]
    },
    {
      "cell_type": "code",
      "execution_count": 15,
      "metadata": {
        "id": "FuJpHrj5uysN",
        "outputId": "0205c229-cb4a-48da-96f8-20d7bdf344b0",
        "colab": {
          "base_uri": "https://localhost:8080/"
        }
      },
      "outputs": [
        {
          "output_type": "stream",
          "name": "stdout",
          "text": [
            "Epoch 1/20\n",
            "375/375 [==============================] - 1s 2ms/step - loss: 0.6687 - accuracy: 0.8335 - val_loss: 0.3584 - val_accuracy: 0.9030\n",
            "Epoch 2/20\n",
            "375/375 [==============================] - 1s 3ms/step - loss: 0.3527 - accuracy: 0.9031 - val_loss: 0.3118 - val_accuracy: 0.9135\n",
            "Epoch 3/20\n",
            "375/375 [==============================] - 1s 3ms/step - loss: 0.3177 - accuracy: 0.9110 - val_loss: 0.2915 - val_accuracy: 0.9208\n",
            "Epoch 4/20\n",
            "375/375 [==============================] - 1s 2ms/step - loss: 0.3015 - accuracy: 0.9159 - val_loss: 0.2840 - val_accuracy: 0.9212\n",
            "Epoch 5/20\n",
            "375/375 [==============================] - 1s 2ms/step - loss: 0.2920 - accuracy: 0.9182 - val_loss: 0.2788 - val_accuracy: 0.9235\n",
            "Epoch 6/20\n",
            "375/375 [==============================] - 1s 2ms/step - loss: 0.2851 - accuracy: 0.9204 - val_loss: 0.2792 - val_accuracy: 0.9227\n",
            "Epoch 7/20\n",
            "375/375 [==============================] - 1s 2ms/step - loss: 0.2806 - accuracy: 0.9220 - val_loss: 0.2708 - val_accuracy: 0.9265\n",
            "Epoch 8/20\n",
            "375/375 [==============================] - 1s 2ms/step - loss: 0.2766 - accuracy: 0.9232 - val_loss: 0.2700 - val_accuracy: 0.9262\n",
            "Epoch 9/20\n",
            "375/375 [==============================] - 1s 2ms/step - loss: 0.2736 - accuracy: 0.9239 - val_loss: 0.2695 - val_accuracy: 0.9252\n",
            "Epoch 10/20\n",
            "375/375 [==============================] - 1s 2ms/step - loss: 0.2705 - accuracy: 0.9248 - val_loss: 0.2660 - val_accuracy: 0.9276\n",
            "Epoch 11/20\n",
            "375/375 [==============================] - 1s 2ms/step - loss: 0.2684 - accuracy: 0.9252 - val_loss: 0.2664 - val_accuracy: 0.9267\n",
            "Epoch 12/20\n",
            "375/375 [==============================] - 1s 2ms/step - loss: 0.2663 - accuracy: 0.9270 - val_loss: 0.2657 - val_accuracy: 0.9286\n",
            "Epoch 13/20\n",
            "375/375 [==============================] - 1s 2ms/step - loss: 0.2646 - accuracy: 0.9275 - val_loss: 0.2662 - val_accuracy: 0.9287\n",
            "Epoch 14/20\n",
            "375/375 [==============================] - 1s 2ms/step - loss: 0.2631 - accuracy: 0.9277 - val_loss: 0.2648 - val_accuracy: 0.9282\n",
            "Epoch 15/20\n",
            "375/375 [==============================] - 1s 2ms/step - loss: 0.2618 - accuracy: 0.9275 - val_loss: 0.2633 - val_accuracy: 0.9288\n",
            "Epoch 16/20\n",
            "375/375 [==============================] - 1s 2ms/step - loss: 0.2605 - accuracy: 0.9283 - val_loss: 0.2655 - val_accuracy: 0.9289\n",
            "Epoch 17/20\n",
            "375/375 [==============================] - 1s 3ms/step - loss: 0.2589 - accuracy: 0.9289 - val_loss: 0.2641 - val_accuracy: 0.9287\n",
            "Epoch 18/20\n",
            "375/375 [==============================] - 1s 2ms/step - loss: 0.2584 - accuracy: 0.9287 - val_loss: 0.2633 - val_accuracy: 0.9305\n",
            "Epoch 19/20\n",
            "375/375 [==============================] - 1s 2ms/step - loss: 0.2570 - accuracy: 0.9295 - val_loss: 0.2626 - val_accuracy: 0.9300\n",
            "Epoch 20/20\n",
            "375/375 [==============================] - 1s 2ms/step - loss: 0.2562 - accuracy: 0.9297 - val_loss: 0.2632 - val_accuracy: 0.9300\n"
          ]
        }
      ],
      "source": [
        "model = keras.Sequential([layers.Dense(10, activation=\"softmax\")])\n",
        "model.compile(optimizer=\"rmsprop\",\n",
        "              loss=\"sparse_categorical_crossentropy\",\n",
        "              metrics=[\"accuracy\"])\n",
        "history_small_model = model.fit(\n",
        "    train_images, train_labels,\n",
        "    epochs=20,\n",
        "    batch_size=128,\n",
        "    validation_split=0.2)"
      ]
    },
    {
      "cell_type": "code",
      "execution_count": 16,
      "metadata": {
        "id": "pbvIvrW7uysO",
        "outputId": "fa8ac674-b2e8-4945-c92b-c0ba4d32656d",
        "colab": {
          "base_uri": "https://localhost:8080/",
          "height": 490
        }
      },
      "outputs": [
        {
          "output_type": "execute_result",
          "data": {
            "text/plain": [
              "<matplotlib.legend.Legend at 0x7f1822a53880>"
            ]
          },
          "metadata": {},
          "execution_count": 16
        },
        {
          "output_type": "display_data",
          "data": {
            "text/plain": [
              "<Figure size 640x480 with 1 Axes>"
            ],
            "image/png": "[encoded data removed]"
          },
          "metadata": {}
        }
      ],
      "source": [
        "import matplotlib.pyplot as plt\n",
        "val_loss = history_small_model.history[\"val_loss\"]\n",
        "epochs = range(1, 21)\n",
        "plt.plot(epochs, val_loss, \"b--\",\n",
        "         label=\"Validation loss\")\n",
        "plt.title(\"Effect of insufficient model capacity on validation loss\")\n",
        "plt.xlabel(\"Epochs\")\n",
        "plt.ylabel(\"Loss\")\n",
        "plt.legend()"
      ]
    },
    {
      "cell_type": "code",
      "execution_count": 17,
      "metadata": {
        "id": "t4BMVceJuysO",
        "outputId": "283f3a32-3378-4dd8-8203-53a12e1f6861",
        "colab": {
          "base_uri": "https://localhost:8080/"
        }
      },
      "outputs": [
        {
          "output_type": "stream",
          "name": "stdout",
          "text": [
            "Epoch 1/20\n",
            "375/375 [==============================] - 2s 5ms/step - loss: 0.3682 - accuracy: 0.8945 - val_loss: 0.1834 - val_accuracy: 0.9485\n",
            "Epoch 2/20\n",
            "375/375 [==============================] - 2s 5ms/step - loss: 0.1637 - accuracy: 0.9519 - val_loss: 0.1298 - val_accuracy: 0.9630\n",
            "Epoch 3/20\n",
            "375/375 [==============================] - 2s 5ms/step - loss: 0.1147 - accuracy: 0.9657 - val_loss: 0.1115 - val_accuracy: 0.9674\n",
            "Epoch 4/20\n",
            "375/375 [==============================] - 1s 4ms/step - loss: 0.0886 - accuracy: 0.9737 - val_loss: 0.1215 - val_accuracy: 0.9655\n",
            "Epoch 5/20\n",
            "375/375 [==============================] - 2s 5ms/step - loss: 0.0704 - accuracy: 0.9788 - val_loss: 0.0926 - val_accuracy: 0.9741\n",
            "Epoch 6/20\n",
            "375/375 [==============================] - 2s 4ms/step - loss: 0.0579 - accuracy: 0.9819 - val_loss: 0.0961 - val_accuracy: 0.9723\n",
            "Epoch 7/20\n",
            "375/375 [==============================] - 1s 3ms/step - loss: 0.0487 - accuracy: 0.9851 - val_loss: 0.0963 - val_accuracy: 0.9748\n",
            "Epoch 8/20\n",
            "375/375 [==============================] - 1s 4ms/step - loss: 0.0413 - accuracy: 0.9869 - val_loss: 0.1046 - val_accuracy: 0.9732\n",
            "Epoch 9/20\n",
            "375/375 [==============================] - 1s 3ms/step - loss: 0.0344 - accuracy: 0.9894 - val_loss: 0.0925 - val_accuracy: 0.9758\n",
            "Epoch 10/20\n",
            "375/375 [==============================] - 2s 4ms/step - loss: 0.0296 - accuracy: 0.9914 - val_loss: 0.0924 - val_accuracy: 0.9769\n",
            "Epoch 11/20\n",
            "375/375 [==============================] - 1s 4ms/step - loss: 0.0247 - accuracy: 0.9923 - val_loss: 0.0947 - val_accuracy: 0.9777\n",
            "Epoch 12/20\n",
            "375/375 [==============================] - 1s 3ms/step - loss: 0.0205 - accuracy: 0.9935 - val_loss: 0.1034 - val_accuracy: 0.9756\n",
            "Epoch 13/20\n",
            "375/375 [==============================] - 2s 6ms/step - loss: 0.0177 - accuracy: 0.9949 - val_loss: 0.1018 - val_accuracy: 0.9763\n",
            "Epoch 14/20\n",
            "375/375 [==============================] - 1s 4ms/step - loss: 0.0144 - accuracy: 0.9954 - val_loss: 0.1019 - val_accuracy: 0.9772\n",
            "Epoch 15/20\n",
            "375/375 [==============================] - 1s 3ms/step - loss: 0.0130 - accuracy: 0.9956 - val_loss: 0.1241 - val_accuracy: 0.9708\n",
            "Epoch 16/20\n",
            "375/375 [==============================] - 1s 3ms/step - loss: 0.0107 - accuracy: 0.9965 - val_loss: 0.1115 - val_accuracy: 0.9778\n",
            "Epoch 17/20\n",
            "375/375 [==============================] - 1s 3ms/step - loss: 0.0089 - accuracy: 0.9974 - val_loss: 0.1182 - val_accuracy: 0.9771\n",
            "Epoch 18/20\n",
            "375/375 [==============================] - 1s 3ms/step - loss: 0.0083 - accuracy: 0.9973 - val_loss: 0.1285 - val_accuracy: 0.9760\n",
            "Epoch 19/20\n",
            "375/375 [==============================] - 1s 4ms/step - loss: 0.0069 - accuracy: 0.9977 - val_loss: 0.1373 - val_accuracy: 0.9753\n",
            "Epoch 20/20\n",
            "375/375 [==============================] - 1s 3ms/step - loss: 0.0064 - accuracy: 0.9982 - val_loss: 0.1205 - val_accuracy: 0.9781\n"
          ]
        }
      ],
      "source": [
        "model = keras.Sequential([\n",
        "    layers.Dense(96, activation=\"relu\"),\n",
        "    layers.Dense(96, activation=\"relu\"),\n",
        "    layers.Dense(10, activation=\"softmax\"),\n",
        "])\n",
        "model.compile(optimizer=\"rmsprop\",\n",
        "              loss=\"sparse_categorical_crossentropy\",\n",
        "              metrics=[\"accuracy\"])\n",
        "history_large_model = model.fit(\n",
        "    train_images, train_labels,\n",
        "    epochs=20,\n",
        "    batch_size=128,\n",
        "    validation_split=0.2)"
      ]
    },
    {
      "cell_type": "code",
      "source": [
        "import matplotlib.pyplot as plt\n",
        "val_small_loss=history_small_model.history[\"val_loss\"]\n",
        "val_large_loss=history_large_model.history[\"val_loss\"]\n",
        "val_original_loss=history_model.history[\"val_loss\"]\n",
        "epochs=range(1,21)\n",
        "plt.plot(epochs, val_small_loss,\"b--\",\n",
        "         label=\"smallcapacity loss\")\n",
        "plt.plot(epochs, val_large_loss,\"r--\",\n",
        "         label=\"largecapacity loss\")\n",
        "plt.plot(epochs, val_original_loss,\"g--\",\n",
        "         label=\"original loss\")\n",
        "plt.title(\"Effect of inlarger modelcapacity on validation loss\")\n",
        "plt.xlabel(\"Epochs\")\n",
        "plt.ylabel(\"Loss\")\n",
        "plt.legend()\n"
      ],
      "metadata": {
        "id": "-kwj8Qu0_7AD",
        "outputId": "6f211393-6677-40a5-c8d7-d321a3584cad",
        "colab": {
          "base_uri": "https://localhost:8080/",
          "height": 490
        }
      },
      "execution_count": 39,
      "outputs": [
        {
          "output_type": "execute_result",
          "data": {
            "text/plain": [
              "<matplotlib.legend.Legend at 0x7f180814f700>"
            ]
          },
          "metadata": {},
          "execution_count": 39
        },
        {
          "output_type": "display_data",
          "data": {
            "text/plain": [
              "<Figure size 640x480 with 1 Axes>"
            ],
            "image/png": "[encoded data removed]"
          },
          "metadata": {}
        }
      ]
    },
    {
      "cell_type": "markdown",
      "metadata": {
        "id": "dS32G6HwuysO"
      },
      "source": [
        "## Improving generalization"
      ]
    },
    {
      "cell_type": "markdown",
      "metadata": {
        "id": "qNR1SDWnuysO"
      },
      "source": [
        "### Dataset curation"
      ]
    },
    {
      "cell_type": "markdown",
      "metadata": {
        "id": "o5dCPb3duysO"
      },
      "source": [
        "### Feature engineering"
      ]
    },
    {
      "cell_type": "markdown",
      "metadata": {
        "id": "se3AUlE-uysP"
      },
      "source": [
        "### Using early stopping"
      ]
    },
    {
      "cell_type": "markdown",
      "metadata": {
        "id": "3SiBXF0huysP"
      },
      "source": [
        "### Regularizing your model"
      ]
    },
    {
      "cell_type": "markdown",
      "metadata": {
        "id": "1LaNQ5mxuysP"
      },
      "source": [
        "#### Reducing the network's size"
      ]
    },
    {
      "cell_type": "markdown",
      "metadata": {
        "id": "1sGdJky6uysP"
      },
      "source": [
        "**Original model**"
      ]
    },
    {
      "cell_type": "code",
      "execution_count": 18,
      "metadata": {
        "id": "Po6Yxz0zuysP",
        "outputId": "db76d6d0-9326-48fc-acce-10cb7bba14ae",
        "colab": {
          "base_uri": "https://localhost:8080/"
        }
      },
      "outputs": [
        {
          "output_type": "stream",
          "name": "stdout",
          "text": [
            "Downloading data from https://storage.googleapis.com/tensorflow/tf-keras-datasets/imdb.npz\n",
            "17464789/17464789 [==============================] - 0s 0us/step\n",
            "Epoch 1/20\n",
            "30/30 [==============================] - 2s 36ms/step - loss: 0.5354 - accuracy: 0.7778 - val_loss: 0.4033 - val_accuracy: 0.8674\n",
            "Epoch 2/20\n",
            "30/30 [==============================] - 1s 22ms/step - loss: 0.3352 - accuracy: 0.8888 - val_loss: 0.3261 - val_accuracy: 0.8754\n",
            "Epoch 3/20\n",
            "30/30 [==============================] - 1s 21ms/step - loss: 0.2514 - accuracy: 0.9147 - val_loss: 0.2882 - val_accuracy: 0.8860\n",
            "Epoch 4/20\n",
            "30/30 [==============================] - 1s 22ms/step - loss: 0.2029 - accuracy: 0.9335 - val_loss: 0.2946 - val_accuracy: 0.8780\n",
            "Epoch 5/20\n",
            "30/30 [==============================] - 1s 21ms/step - loss: 0.1701 - accuracy: 0.9429 - val_loss: 0.2784 - val_accuracy: 0.8896\n",
            "Epoch 6/20\n",
            "30/30 [==============================] - 1s 20ms/step - loss: 0.1450 - accuracy: 0.9531 - val_loss: 0.2966 - val_accuracy: 0.8823\n",
            "Epoch 7/20\n",
            "30/30 [==============================] - 1s 26ms/step - loss: 0.1246 - accuracy: 0.9623 - val_loss: 0.2938 - val_accuracy: 0.8858\n",
            "Epoch 8/20\n",
            "30/30 [==============================] - 1s 21ms/step - loss: 0.1049 - accuracy: 0.9683 - val_loss: 0.3157 - val_accuracy: 0.8802\n",
            "Epoch 9/20\n",
            "30/30 [==============================] - 1s 22ms/step - loss: 0.0929 - accuracy: 0.9738 - val_loss: 0.3418 - val_accuracy: 0.8769\n",
            "Epoch 10/20\n",
            "30/30 [==============================] - 1s 33ms/step - loss: 0.0792 - accuracy: 0.9781 - val_loss: 0.3562 - val_accuracy: 0.8755\n",
            "Epoch 11/20\n",
            "30/30 [==============================] - 1s 31ms/step - loss: 0.0699 - accuracy: 0.9817 - val_loss: 0.3786 - val_accuracy: 0.8725\n",
            "Epoch 12/20\n",
            "30/30 [==============================] - 1s 20ms/step - loss: 0.0585 - accuracy: 0.9869 - val_loss: 0.3740 - val_accuracy: 0.8796\n",
            "Epoch 13/20\n",
            "30/30 [==============================] - 1s 21ms/step - loss: 0.0519 - accuracy: 0.9877 - val_loss: 0.3954 - val_accuracy: 0.8777\n",
            "Epoch 14/20\n",
            "30/30 [==============================] - 1s 21ms/step - loss: 0.0428 - accuracy: 0.9911 - val_loss: 0.4230 - val_accuracy: 0.8743\n",
            "Epoch 15/20\n",
            "30/30 [==============================] - 1s 20ms/step - loss: 0.0374 - accuracy: 0.9923 - val_loss: 0.4494 - val_accuracy: 0.8721\n",
            "Epoch 16/20\n",
            "30/30 [==============================] - 1s 22ms/step - loss: 0.0319 - accuracy: 0.9932 - val_loss: 0.4579 - val_accuracy: 0.8734\n",
            "Epoch 17/20\n",
            "30/30 [==============================] - 1s 26ms/step - loss: 0.0275 - accuracy: 0.9949 - val_loss: 0.4878 - val_accuracy: 0.8724\n",
            "Epoch 18/20\n",
            "30/30 [==============================] - 1s 21ms/step - loss: 0.0223 - accuracy: 0.9965 - val_loss: 0.5042 - val_accuracy: 0.8716\n",
            "Epoch 19/20\n",
            "30/30 [==============================] - 1s 21ms/step - loss: 0.0189 - accuracy: 0.9978 - val_loss: 0.5297 - val_accuracy: 0.8714\n",
            "Epoch 20/20\n",
            "30/30 [==============================] - 1s 21ms/step - loss: 0.0185 - accuracy: 0.9969 - val_loss: 0.5515 - val_accuracy: 0.8693\n"
          ]
        }
      ],
      "source": [
        "from tensorflow.keras.datasets import imdb\n",
        "(train_data, train_labels), _ = imdb.load_data(num_words=10000)\n",
        "\n",
        "def vectorize_sequences(sequences, dimension=10000):\n",
        "    results = np.zeros((len(sequences), dimension))\n",
        "    for i, sequence in enumerate(sequences):\n",
        "        results[i, sequence] = 1.\n",
        "    return results\n",
        "train_data = vectorize_sequences(train_data)\n",
        "\n",
        "model = keras.Sequential([\n",
        "    layers.Dense(16, activation=\"relu\"),\n",
        "    layers.Dense(16, activation=\"relu\"),\n",
        "    layers.Dense(1, activation=\"sigmoid\")\n",
        "])\n",
        "model.compile(optimizer=\"rmsprop\",\n",
        "              loss=\"binary_crossentropy\",\n",
        "              metrics=[\"accuracy\"])\n",
        "history_original = model.fit(train_data, train_labels,\n",
        "                             epochs=20, batch_size=512, validation_split=0.4)"
      ]
    },
    {
      "cell_type": "markdown",
      "metadata": {
        "id": "Hcerz6x0uysP"
      },
      "source": [
        "**Version of the model with lower capacity**"
      ]
    },
    {
      "cell_type": "code",
      "execution_count": 19,
      "metadata": {
        "id": "43Vq_GGuuysP",
        "outputId": "bc5ff428-100d-45a2-c094-f43b143aabc2",
        "colab": {
          "base_uri": "https://localhost:8080/"
        }
      },
      "outputs": [
        {
          "output_type": "stream",
          "name": "stdout",
          "text": [
            "Epoch 1/20\n",
            "30/30 [==============================] - 2s 35ms/step - loss: 0.6557 - accuracy: 0.6352 - val_loss: 0.6141 - val_accuracy: 0.8086\n",
            "Epoch 2/20\n",
            "30/30 [==============================] - 1s 20ms/step - loss: 0.5719 - accuracy: 0.8063 - val_loss: 0.5373 - val_accuracy: 0.8196\n",
            "Epoch 3/20\n",
            "30/30 [==============================] - 1s 20ms/step - loss: 0.4921 - accuracy: 0.8649 - val_loss: 0.4687 - val_accuracy: 0.8552\n",
            "Epoch 4/20\n",
            "30/30 [==============================] - 1s 20ms/step - loss: 0.4215 - accuracy: 0.8883 - val_loss: 0.4140 - val_accuracy: 0.8676\n",
            "Epoch 5/20\n",
            "30/30 [==============================] - 1s 19ms/step - loss: 0.3635 - accuracy: 0.9004 - val_loss: 0.3697 - val_accuracy: 0.8785\n",
            "Epoch 6/20\n",
            "30/30 [==============================] - 1s 20ms/step - loss: 0.3160 - accuracy: 0.9090 - val_loss: 0.3365 - val_accuracy: 0.8817\n",
            "Epoch 7/20\n",
            "30/30 [==============================] - 1s 19ms/step - loss: 0.2767 - accuracy: 0.9173 - val_loss: 0.3128 - val_accuracy: 0.8858\n",
            "Epoch 8/20\n",
            "30/30 [==============================] - 1s 20ms/step - loss: 0.2449 - accuracy: 0.9245 - val_loss: 0.2949 - val_accuracy: 0.8883\n",
            "Epoch 9/20\n",
            "30/30 [==============================] - 1s 19ms/step - loss: 0.2188 - accuracy: 0.9313 - val_loss: 0.2836 - val_accuracy: 0.8886\n",
            "Epoch 10/20\n",
            "30/30 [==============================] - 1s 19ms/step - loss: 0.1976 - accuracy: 0.9366 - val_loss: 0.2782 - val_accuracy: 0.8901\n",
            "Epoch 11/20\n",
            "30/30 [==============================] - 1s 19ms/step - loss: 0.1808 - accuracy: 0.9414 - val_loss: 0.2783 - val_accuracy: 0.8881\n",
            "Epoch 12/20\n",
            "30/30 [==============================] - 1s 20ms/step - loss: 0.1653 - accuracy: 0.9479 - val_loss: 0.2769 - val_accuracy: 0.8886\n",
            "Epoch 13/20\n",
            "30/30 [==============================] - 1s 27ms/step - loss: 0.1519 - accuracy: 0.9531 - val_loss: 0.2750 - val_accuracy: 0.8906\n",
            "Epoch 14/20\n",
            "30/30 [==============================] - 1s 34ms/step - loss: 0.1397 - accuracy: 0.9575 - val_loss: 0.2918 - val_accuracy: 0.8843\n",
            "Epoch 15/20\n",
            "30/30 [==============================] - 1s 23ms/step - loss: 0.1294 - accuracy: 0.9613 - val_loss: 0.2834 - val_accuracy: 0.8891\n",
            "Epoch 16/20\n",
            "30/30 [==============================] - 1s 19ms/step - loss: 0.1197 - accuracy: 0.9663 - val_loss: 0.2879 - val_accuracy: 0.8867\n",
            "Epoch 17/20\n",
            "30/30 [==============================] - 1s 20ms/step - loss: 0.1106 - accuracy: 0.9693 - val_loss: 0.2977 - val_accuracy: 0.8863\n",
            "Epoch 18/20\n",
            "30/30 [==============================] - 1s 20ms/step - loss: 0.1019 - accuracy: 0.9730 - val_loss: 0.3011 - val_accuracy: 0.8870\n",
            "Epoch 19/20\n",
            "30/30 [==============================] - 1s 19ms/step - loss: 0.0943 - accuracy: 0.9745 - val_loss: 0.3086 - val_accuracy: 0.8852\n",
            "Epoch 20/20\n",
            "30/30 [==============================] - 1s 19ms/step - loss: 0.0863 - accuracy: 0.9769 - val_loss: 0.3166 - val_accuracy: 0.8846\n"
          ]
        }
      ],
      "source": [
        "model = keras.Sequential([\n",
        "    layers.Dense(4, activation=\"relu\"),\n",
        "    layers.Dense(4, activation=\"relu\"),\n",
        "    layers.Dense(1, activation=\"sigmoid\")\n",
        "])\n",
        "model.compile(optimizer=\"rmsprop\",\n",
        "              loss=\"binary_crossentropy\",\n",
        "              metrics=[\"accuracy\"])\n",
        "history_smaller_model = model.fit(\n",
        "    train_data, train_labels,\n",
        "    epochs=20, batch_size=512, validation_split=0.4)"
      ]
    },
    {
      "cell_type": "markdown",
      "metadata": {
        "id": "TWi5R0mluysQ"
      },
      "source": [
        "**Version of the model with higher capacity**"
      ]
    },
    {
      "cell_type": "code",
      "execution_count": 20,
      "metadata": {
        "id": "HNf-daR_uysQ",
        "outputId": "d2b0a116-7831-4a44-967c-72dbbb28fa10",
        "colab": {
          "base_uri": "https://localhost:8080/"
        }
      },
      "outputs": [
        {
          "output_type": "stream",
          "name": "stdout",
          "text": [
            "Epoch 1/20\n",
            "30/30 [==============================] - 8s 244ms/step - loss: 0.5677 - accuracy: 0.7163 - val_loss: 0.3696 - val_accuracy: 0.8418\n",
            "Epoch 2/20\n",
            "30/30 [==============================] - 6s 210ms/step - loss: 0.3337 - accuracy: 0.8651 - val_loss: 0.3560 - val_accuracy: 0.8519\n",
            "Epoch 3/20\n",
            "30/30 [==============================] - 7s 234ms/step - loss: 0.2349 - accuracy: 0.9053 - val_loss: 0.2830 - val_accuracy: 0.8864\n",
            "Epoch 4/20\n",
            "30/30 [==============================] - 6s 209ms/step - loss: 0.1978 - accuracy: 0.9227 - val_loss: 0.2776 - val_accuracy: 0.8872\n",
            "Epoch 5/20\n",
            "30/30 [==============================] - 7s 239ms/step - loss: 0.1412 - accuracy: 0.9457 - val_loss: 0.3351 - val_accuracy: 0.8764\n",
            "Epoch 6/20\n",
            "30/30 [==============================] - 6s 212ms/step - loss: 0.1041 - accuracy: 0.9645 - val_loss: 0.3593 - val_accuracy: 0.8781\n",
            "Epoch 7/20\n",
            "30/30 [==============================] - 7s 238ms/step - loss: 0.0827 - accuracy: 0.9717 - val_loss: 0.4002 - val_accuracy: 0.8735\n",
            "Epoch 8/20\n",
            "30/30 [==============================] - 6s 210ms/step - loss: 0.0750 - accuracy: 0.9772 - val_loss: 0.3758 - val_accuracy: 0.8838\n",
            "Epoch 9/20\n",
            "30/30 [==============================] - 8s 254ms/step - loss: 0.0689 - accuracy: 0.9802 - val_loss: 0.3416 - val_accuracy: 0.8833\n",
            "Epoch 10/20\n",
            "30/30 [==============================] - 7s 239ms/step - loss: 0.0107 - accuracy: 0.9988 - val_loss: 0.4669 - val_accuracy: 0.8808\n",
            "Epoch 11/20\n",
            "30/30 [==============================] - 6s 211ms/step - loss: 0.0830 - accuracy: 0.9810 - val_loss: 0.3952 - val_accuracy: 0.8808\n",
            "Epoch 12/20\n",
            "30/30 [==============================] - 8s 280ms/step - loss: 0.0053 - accuracy: 0.9999 - val_loss: 0.4994 - val_accuracy: 0.8805\n",
            "Epoch 13/20\n",
            "30/30 [==============================] - 6s 210ms/step - loss: 0.0025 - accuracy: 0.9999 - val_loss: 0.5597 - val_accuracy: 0.8811\n",
            "Epoch 14/20\n",
            "30/30 [==============================] - 7s 238ms/step - loss: 0.1001 - accuracy: 0.9813 - val_loss: 0.4637 - val_accuracy: 0.8831\n",
            "Epoch 15/20\n",
            "30/30 [==============================] - 6s 210ms/step - loss: 0.0025 - accuracy: 1.0000 - val_loss: 0.5291 - val_accuracy: 0.8827\n",
            "Epoch 16/20\n",
            "30/30 [==============================] - 7s 237ms/step - loss: 0.0012 - accuracy: 1.0000 - val_loss: 0.5962 - val_accuracy: 0.8816\n",
            "Epoch 17/20\n",
            "30/30 [==============================] - 7s 241ms/step - loss: 7.0707e-04 - accuracy: 1.0000 - val_loss: 0.6447 - val_accuracy: 0.8820\n",
            "Epoch 18/20\n",
            "30/30 [==============================] - 6s 212ms/step - loss: 0.0068 - accuracy: 0.9980 - val_loss: 2.1195 - val_accuracy: 0.7268\n",
            "Epoch 19/20\n",
            "30/30 [==============================] - 7s 240ms/step - loss: 0.0451 - accuracy: 0.9901 - val_loss: 0.5538 - val_accuracy: 0.8798\n",
            "Epoch 20/20\n",
            "30/30 [==============================] - 6s 212ms/step - loss: 7.7365e-04 - accuracy: 1.0000 - val_loss: 0.6139 - val_accuracy: 0.8804\n"
          ]
        }
      ],
      "source": [
        "model = keras.Sequential([\n",
        "    layers.Dense(512, activation=\"relu\"),\n",
        "    layers.Dense(512, activation=\"relu\"),\n",
        "    layers.Dense(1, activation=\"sigmoid\")\n",
        "])\n",
        "model.compile(optimizer=\"rmsprop\",\n",
        "              loss=\"binary_crossentropy\",\n",
        "              metrics=[\"accuracy\"])\n",
        "history_larger_model = model.fit(\n",
        "    train_data, train_labels,\n",
        "    epochs=20, batch_size=512, validation_split=0.4)"
      ]
    },
    {
      "cell_type": "markdown",
      "metadata": {
        "id": "ny1nMcKAuysQ"
      },
      "source": [
        "#### Adding weight regularization"
      ]
    },
    {
      "cell_type": "markdown",
      "metadata": {
        "id": "HXpzBpBvuysQ"
      },
      "source": [
        "**Adding L2 weight regularization to the model**"
      ]
    },
    {
      "cell_type": "code",
      "execution_count": 21,
      "metadata": {
        "id": "oRf1JcBPuysQ",
        "outputId": "dcc8c4b6-5b7d-4895-d9a5-1ced7d1b2a96",
        "colab": {
          "base_uri": "https://localhost:8080/"
        }
      },
      "outputs": [
        {
          "output_type": "stream",
          "name": "stdout",
          "text": [
            "Epoch 1/20\n",
            "30/30 [==============================] - 2s 35ms/step - loss: 0.6196 - accuracy: 0.7744 - val_loss: 0.4917 - val_accuracy: 0.8529\n",
            "Epoch 2/20\n",
            "30/30 [==============================] - 1s 21ms/step - loss: 0.4227 - accuracy: 0.8845 - val_loss: 0.4103 - val_accuracy: 0.8734\n",
            "Epoch 3/20\n",
            "30/30 [==============================] - 1s 21ms/step - loss: 0.3431 - accuracy: 0.9104 - val_loss: 0.3845 - val_accuracy: 0.8766\n",
            "Epoch 4/20\n",
            "30/30 [==============================] - 1s 21ms/step - loss: 0.3025 - accuracy: 0.9222 - val_loss: 0.3652 - val_accuracy: 0.8834\n",
            "Epoch 5/20\n",
            "30/30 [==============================] - 1s 21ms/step - loss: 0.2823 - accuracy: 0.9282 - val_loss: 0.3560 - val_accuracy: 0.8872\n",
            "Epoch 6/20\n",
            "30/30 [==============================] - 1s 21ms/step - loss: 0.2620 - accuracy: 0.9375 - val_loss: 0.3598 - val_accuracy: 0.8865\n",
            "Epoch 7/20\n",
            "30/30 [==============================] - 1s 20ms/step - loss: 0.2537 - accuracy: 0.9407 - val_loss: 0.3613 - val_accuracy: 0.8865\n",
            "Epoch 8/20\n",
            "30/30 [==============================] - 1s 21ms/step - loss: 0.2453 - accuracy: 0.9423 - val_loss: 0.4111 - val_accuracy: 0.8666\n",
            "Epoch 9/20\n",
            "30/30 [==============================] - 1s 22ms/step - loss: 0.2372 - accuracy: 0.9481 - val_loss: 0.3756 - val_accuracy: 0.8818\n",
            "Epoch 10/20\n",
            "30/30 [==============================] - 1s 20ms/step - loss: 0.2311 - accuracy: 0.9489 - val_loss: 0.4472 - val_accuracy: 0.8571\n",
            "Epoch 11/20\n",
            "30/30 [==============================] - 1s 36ms/step - loss: 0.2276 - accuracy: 0.9520 - val_loss: 0.3808 - val_accuracy: 0.8807\n",
            "Epoch 12/20\n",
            "30/30 [==============================] - 1s 32ms/step - loss: 0.2185 - accuracy: 0.9541 - val_loss: 0.3964 - val_accuracy: 0.8772\n",
            "Epoch 13/20\n",
            "30/30 [==============================] - 1s 21ms/step - loss: 0.2152 - accuracy: 0.9573 - val_loss: 0.4195 - val_accuracy: 0.8719\n",
            "Epoch 14/20\n",
            "30/30 [==============================] - 1s 21ms/step - loss: 0.2144 - accuracy: 0.9562 - val_loss: 0.3972 - val_accuracy: 0.8767\n",
            "Epoch 15/20\n",
            "30/30 [==============================] - 1s 20ms/step - loss: 0.2087 - accuracy: 0.9582 - val_loss: 0.4056 - val_accuracy: 0.8760\n",
            "Epoch 16/20\n",
            "30/30 [==============================] - 1s 21ms/step - loss: 0.2053 - accuracy: 0.9604 - val_loss: 0.4271 - val_accuracy: 0.8712\n",
            "Epoch 17/20\n",
            "30/30 [==============================] - 1s 21ms/step - loss: 0.2068 - accuracy: 0.9593 - val_loss: 0.4132 - val_accuracy: 0.8752\n",
            "Epoch 18/20\n",
            "30/30 [==============================] - 1s 20ms/step - loss: 0.1965 - accuracy: 0.9651 - val_loss: 0.4123 - val_accuracy: 0.8763\n",
            "Epoch 19/20\n",
            "30/30 [==============================] - 1s 21ms/step - loss: 0.1986 - accuracy: 0.9619 - val_loss: 0.4703 - val_accuracy: 0.8591\n",
            "Epoch 20/20\n",
            "30/30 [==============================] - 1s 21ms/step - loss: 0.1934 - accuracy: 0.9655 - val_loss: 0.4215 - val_accuracy: 0.8756\n"
          ]
        }
      ],
      "source": [
        "from tensorflow.keras import regularizers\n",
        "model = keras.Sequential([\n",
        "    layers.Dense(16,\n",
        "                 kernel_regularizer=regularizers.l2(0.002),\n",
        "                 activation=\"relu\"),\n",
        "    layers.Dense(16,\n",
        "                 kernel_regularizer=regularizers.l2(0.002),\n",
        "                 activation=\"relu\"),\n",
        "    layers.Dense(1, activation=\"sigmoid\")\n",
        "])\n",
        "model.compile(optimizer=\"rmsprop\",\n",
        "              loss=\"binary_crossentropy\",\n",
        "              metrics=[\"accuracy\"])\n",
        "history_l2_reg = model.fit(\n",
        "    train_data, train_labels,\n",
        "    epochs=20, batch_size=512, validation_split=0.4)"
      ]
    },
    {
      "cell_type": "markdown",
      "metadata": {
        "id": "fGY3_GPQuysQ"
      },
      "source": [
        "**Different weight regularizers available in Keras**"
      ]
    },
    {
      "cell_type": "code",
      "execution_count": 22,
      "metadata": {
        "id": "LEdnEnpcuysQ",
        "outputId": "f58ab723-6055-4d86-fd91-3d2c2b7a6720",
        "colab": {
          "base_uri": "https://localhost:8080/"
        }
      },
      "outputs": [
        {
          "output_type": "execute_result",
          "data": {
            "text/plain": [
              "<keras.regularizers.L1L2 at 0x7f181af2c460>"
            ]
          },
          "metadata": {},
          "execution_count": 22
        }
      ],
      "source": [
        "from tensorflow.keras import regularizers\n",
        "regularizers.l1(0.001)\n",
        "regularizers.l1_l2(l1=0.001, l2=0.001)"
      ]
    },
    {
      "cell_type": "markdown",
      "metadata": {
        "id": "UPkg9KMBuysR"
      },
      "source": [
        "#### Adding dropout"
      ]
    },
    {
      "cell_type": "markdown",
      "metadata": {
        "id": "8Nqldq-7uysR"
      },
      "source": [
        "**Adding dropout to the IMDB model**"
      ]
    },
    {
      "cell_type": "code",
      "execution_count": 23,
      "metadata": {
        "id": "rW3Yb5XKuysR",
        "outputId": "27eee318-acb0-4add-9982-a17596602c8e",
        "colab": {
          "base_uri": "https://localhost:8080/"
        }
      },
      "outputs": [
        {
          "output_type": "stream",
          "name": "stdout",
          "text": [
            "Epoch 1/20\n",
            "30/30 [==============================] - 2s 35ms/step - loss: 0.6416 - accuracy: 0.6240 - val_loss: 0.5095 - val_accuracy: 0.8416\n",
            "Epoch 2/20\n",
            "30/30 [==============================] - 1s 27ms/step - loss: 0.5246 - accuracy: 0.7541 - val_loss: 0.4293 - val_accuracy: 0.8461\n",
            "Epoch 3/20\n",
            "30/30 [==============================] - 1s 21ms/step - loss: 0.4492 - accuracy: 0.8033 - val_loss: 0.3538 - val_accuracy: 0.8810\n",
            "Epoch 4/20\n",
            "30/30 [==============================] - 1s 27ms/step - loss: 0.3856 - accuracy: 0.8409 - val_loss: 0.3125 - val_accuracy: 0.8863\n",
            "Epoch 5/20\n",
            "30/30 [==============================] - 1s 30ms/step - loss: 0.3407 - accuracy: 0.8653 - val_loss: 0.2875 - val_accuracy: 0.8903\n",
            "Epoch 6/20\n",
            "30/30 [==============================] - 1s 37ms/step - loss: 0.2974 - accuracy: 0.8884 - val_loss: 0.2871 - val_accuracy: 0.8818\n",
            "Epoch 7/20\n",
            "30/30 [==============================] - 1s 23ms/step - loss: 0.2634 - accuracy: 0.9104 - val_loss: 0.2739 - val_accuracy: 0.8907\n",
            "Epoch 8/20\n",
            "30/30 [==============================] - 1s 22ms/step - loss: 0.2379 - accuracy: 0.9210 - val_loss: 0.2772 - val_accuracy: 0.8931\n",
            "Epoch 9/20\n",
            "30/30 [==============================] - 1s 21ms/step - loss: 0.2142 - accuracy: 0.9320 - val_loss: 0.2837 - val_accuracy: 0.8925\n",
            "Epoch 10/20\n",
            "30/30 [==============================] - 1s 21ms/step - loss: 0.1927 - accuracy: 0.9405 - val_loss: 0.2930 - val_accuracy: 0.8910\n",
            "Epoch 11/20\n",
            "30/30 [==============================] - 1s 21ms/step - loss: 0.1740 - accuracy: 0.9469 - val_loss: 0.3229 - val_accuracy: 0.8886\n",
            "Epoch 12/20\n",
            "30/30 [==============================] - 1s 22ms/step - loss: 0.1626 - accuracy: 0.9514 - val_loss: 0.3417 - val_accuracy: 0.8893\n",
            "Epoch 13/20\n",
            "30/30 [==============================] - 1s 21ms/step - loss: 0.1475 - accuracy: 0.9535 - val_loss: 0.3418 - val_accuracy: 0.8891\n",
            "Epoch 14/20\n",
            "30/30 [==============================] - 1s 22ms/step - loss: 0.1326 - accuracy: 0.9578 - val_loss: 0.3778 - val_accuracy: 0.8867\n",
            "Epoch 15/20\n",
            "30/30 [==============================] - 1s 22ms/step - loss: 0.1220 - accuracy: 0.9626 - val_loss: 0.4081 - val_accuracy: 0.8869\n",
            "Epoch 16/20\n",
            "30/30 [==============================] - 1s 20ms/step - loss: 0.1168 - accuracy: 0.9625 - val_loss: 0.3962 - val_accuracy: 0.8868\n",
            "Epoch 17/20\n",
            "30/30 [==============================] - 1s 20ms/step - loss: 0.1073 - accuracy: 0.9639 - val_loss: 0.4267 - val_accuracy: 0.8864\n",
            "Epoch 18/20\n",
            "30/30 [==============================] - 1s 27ms/step - loss: 0.0975 - accuracy: 0.9696 - val_loss: 0.4790 - val_accuracy: 0.8871\n",
            "Epoch 19/20\n",
            "30/30 [==============================] - 1s 21ms/step - loss: 0.0899 - accuracy: 0.9703 - val_loss: 0.4997 - val_accuracy: 0.8862\n",
            "Epoch 20/20\n",
            "30/30 [==============================] - 1s 22ms/step - loss: 0.0907 - accuracy: 0.9697 - val_loss: 0.5076 - val_accuracy: 0.8865\n"
          ]
        }
      ],
      "source": [
        "model = keras.Sequential([\n",
        "    layers.Dense(16, activation=\"relu\"),\n",
        "    layers.Dropout(0.5),\n",
        "    layers.Dense(16, activation=\"relu\"),\n",
        "    layers.Dropout(0.5),\n",
        "    layers.Dense(1, activation=\"sigmoid\")\n",
        "])\n",
        "model.compile(optimizer=\"rmsprop\",\n",
        "              loss=\"binary_crossentropy\",\n",
        "              metrics=[\"accuracy\"])\n",
        "history_dropout = model.fit(\n",
        "    train_data, train_labels,\n",
        "    epochs=20, batch_size=512, validation_split=0.4)"
      ]
    },
    {
      "cell_type": "markdown",
      "metadata": {
        "id": "odjblXZ6uysR"
      },
      "source": [
        "## Summary"
      ]
    }
  ],
  "metadata": {
    "colab": {
      "name": "chapter05_fundamentals-of-ml.i",
      "provenance": [],
      "toc_visible": true
    },
    "kernelspec": {
      "display_name": "Python 3",
      "language": "python",
      "name": "python3"
    },
    "language_info": {
      "codemirror_mode": {
        "name": "ipython",
        "version": 3
      },
      "file_extension": ".py",
      "mimetype": "text/x-python",
      "name": "python",
      "nbconvert_exporter": "python",
      "pygments_lexer": "ipython3",
      "version": "3.7.0"
    }
  },
  "nbformat": 4,
  "nbformat_minor": 0
}